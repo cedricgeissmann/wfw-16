{
 "cells": [
  {
   "cell_type": "markdown",
   "metadata": {},
   "source": [
    "# Prinzip von Cavalieri\n",
    "\n",
    "Das Prinzip von Cavalieri besagt dass sich das Volumen eines Körpers nicht verändert, wenn dieser in paralelle kongruente Schnitte zerteilt wird und diese alle entlang der gleichen Achse verschoben werden.\n",
    "\n",
    "Es ist nicht ganz trivial diese Worte zu verstehen, deshalb möchten wir das mit einem Video zeigen. Für das Video geht es mehr darum Manim zu verstehen, wie das Prinzip von Cavalieri zu zeigen, deshalb fehlen auch noch viele Teile des Videos.\n",
    "\n",
    "## Einfaches Skript\n",
    "\n",
    "Um mit einem Video zu starten, brauchen wir mal eine Idee, welche wir Stück für Stück visualisieren können. Hier starten wir mit einem Würfel. Den Würfel stellen wir dann als einen Stapel von Quadraten dar. Wenn wir das gemacht haben, verschieben wir ein Quadrat nach dem anderen, und jedes ein wenig mehr, nach rechts. Dies soll veranschaulichen, dass sich das Volumen nicht ändert.\n",
    "\n",
    "Wir starten zuerst mal mit dem Würfel. Den gibt es in Manim bereits und wir können einen neuen `Cube()` erstellen. Und wir erstellen noch ein Quadrat. Ist das gemacht können wir mal ein erstes Video erzeugen, und uns anschauen wie es aussieht.\n",
    "\n",
    "Sie sehen das ein Würfel gezeichnet wird, aber nicht in 3D dargestellt wird. Wenn wir das erreichen möchten, brauchen wir die `ThreeDScene`. Dann müssen wir dort noch die Kamera verschieben, um eine bessere Perspektive zu erhalten. Das erreichen wir über die Methode `set_camera_orientation(phi=..., theta=...)`.\n",
    "\n",
    "Das ist bereits fast alles was wir bruachen um in 3D zu arbeiten. Wir müssen jetzt nur noch bei den Richtungen aufpassen. In 2D konnten wir `UP, DOWN, RIGHT, LEFT` verwenden. Die funktionieren hier immer noch, aber wenn wir etwas in der $z$-Richtung verschieben möchten, geben wir am besten einen Verschiebungsvektor an (Bsp.: `[1., 0., -1.]`)."
   ]
  },
  {
   "cell_type": "code",
   "execution_count": 1,
   "metadata": {},
   "outputs": [],
   "source": [
    "from manim import *"
   ]
  },
  {
   "cell_type": "code",
   "execution_count": 46,
   "metadata": {},
   "outputs": [
    {
     "name": "stderr",
     "output_type": "stream",
     "text": [
      "                                                                                       \r"
     ]
    },
    {
     "data": {
      "text/html": [
       "<video src=\"media/jupyter/491f4b2d1c9525b1e946ac6e54d72118eccb946a.mp4\" controls autoplay loop style=\"max-width: 100%;\"  >\n",
       "      Your browser does not support the <code>video</code> element.\n",
       "    </video>"
      ],
      "text/plain": [
       "<IPython.core.display.Video object>"
      ]
     },
     "metadata": {},
     "output_type": "display_data"
    }
   ],
   "source": [
    "%%manim Cavalieri -pql -v WARNING\n",
    "\n",
    "class Cavalieri(ThreeDScene):\n",
    "    def construct(self):\n",
    "        cube = Cube()\n",
    "        cube.move_to(LEFT * 2)\n",
    "        \n",
    "        square = Square()\n",
    "        square.move_to([1., 0, -1])\n",
    "        \n",
    "        self.set_camera_orientation(phi=60 * DEGREES, theta=-80 * DEGREES)\n",
    "        \n",
    "        squares = [square]\n",
    "        \n",
    "        for i in range(10):\n",
    "            new_square = square.copy().shift([0,0,i * 0.2])\n",
    "            squares.append(new_square)\n",
    "          \n",
    "        \n",
    "        self.play(ShowCreation(cube))\n",
    "        for s in squares:\n",
    "            self.play(ShowCreation(s))\n",
    "        self.wait()\n",
    "        \n",
    "        shifeted_squares = [s.copy().shift([i * 0.2, 0, 0]) for (i, s) in zip(range(len(squares)), squares)]\n",
    "        for (orig, target) in zip(squares, shifeted_squares):\n",
    "            self.play(Transform(orig, target))\n",
    "            "
   ]
  }
 ],
 "metadata": {
  "kernelspec": {
   "display_name": "Python 3",
   "language": "python",
   "name": "python3"
  },
  "language_info": {
   "codemirror_mode": {
    "name": "ipython",
    "version": 3
   },
   "file_extension": ".py",
   "mimetype": "text/x-python",
   "name": "python",
   "nbconvert_exporter": "python",
   "pygments_lexer": "ipython3",
   "version": "3.8.6"
  }
 },
 "nbformat": 4,
 "nbformat_minor": 4
}

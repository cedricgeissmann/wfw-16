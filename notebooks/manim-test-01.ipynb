{
 "cells": [
  {
   "cell_type": "markdown",
   "metadata": {},
   "source": [
    "# Manim Tutorial mit Jupyter\n",
    "\n",
    "In diesem Tutorial wollen wir uns anschauen wie man einfache animierte Videos\n",
    "mit der Manim Bibliothek erstellen kann.\n",
    "\n",
    "Manim ist eine Python Bibliothek die das erstellen solcher Videos ermöglicht.\n",
    "Hier soll es vor allem darum gehen wie man die Bibliothek verwendet, und\n",
    "weniger wie Python funktioniert. Es ist von Vorteil wenn eine solide\n",
    "Grundkenntnis in Python vorhanden ist. Ist dies jedoch nicht der Fall, kann der\n",
    "Code einfach auch strukturell abgeschrieben werden.\n",
    "\n",
    "## Manim importieren\n",
    "\n",
    "Bevor wir Manim überhaupt verwenden können, müssen wir es importieren. Am\n",
    "besten wir machen dies einmal pro Notebook ganz zu beginn. Wichtig hier ist,\n",
    "wenn wir den Kernel neu laden müssen, müssen wir auch diese erste Zelle mit dem\n",
    "Import erneut laufen lassen. Das müssen Sie sich jetzt nicht unbedingt merken,\n",
    "Sie sehen dann was gemeint ist wenn es so weit ist."
   ]
  },
  {
   "cell_type": "code",
   "execution_count": 2,
   "metadata": {},
   "outputs": [],
   "source": [
    "from manim import *"
   ]
  },
  {
   "cell_type": "markdown",
   "metadata": {},
   "source": [
    "## Manim Szenen\n",
    "\n",
    "Um eine Szene in Manim zu programmieren, erstellen wir eine Klasse die von\n",
    "`Scene` abgeleitet ist. Der ganze Animationscode für die Szene, landet dann in\n",
    "der `construct` Funktion. Der Code kann für eine bessere Leserlichkeit, aber\n",
    "auch auf verschiedene Methoden verteilt werden. Wichtig ist das die Methode\n",
    "`construct` für eine Szene existiert, denn diese wird benutzt wenn die Szene\n",
    "erstellt werden soll."
   ]
  },
  {
   "cell_type": "code",
   "execution_count": 22,
   "metadata": {},
   "outputs": [],
   "source": [
    "class SquareToCircle(Scene):\n",
    "    def construct(self):\n",
    "        circle = Circle()\n",
    "        circle.set_fill(PINK, opacity=0.5)\n",
    "\n",
    "        square = Square()\n",
    "        square.rotate(PI / 4)\n",
    "        square.set_fill(BLUE, opacity=0.7)\n",
    "        \n",
    "        self.play(ShowCreation(square))\n",
    "        self.play(Transform(square, circle))\n",
    "        self.play(FadeOut(square))"
   ]
  },
  {
   "cell_type": "markdown",
   "metadata": {},
   "source": [
    "## Magische Zellen\n",
    "\n",
    "In dieser Zelle sehen Sie den Befehl eine Szene zu erstellen. Wichtig hier ist\n",
    "das `%` ganz am Anfang der Zelle. Dann folgt der Befehl `manim` und danach der\n",
    "Name der Szene die Sie gerne erstellen möchten. Danach folgen noch einige\n",
    "Parameter, um diese kümmern wir uns hier nicht weiter, wir kopieren diese\n",
    "einfach.\n",
    "\n",
    "Wenn Sie diese Zelle ausführen wird Ihnen ein Video erstellt. Das Video\n",
    "erscheint gleich unterhalb der Zelle und kann direkt im Browser abgespielt\n",
    "werden. Es wir aber auch lokal eine Kopie gespeichert, diese finden Sie im\n",
    "Ordner `media`."
   ]
  },
  {
   "cell_type": "code",
   "execution_count": 23,
   "metadata": {},
   "outputs": [
    {
     "name": "stderr",
     "output_type": "stream",
     "text": [
      "                                                                        \r"
     ]
    },
    {
     "data": {
      "text/html": [
       "<video src=\"media/jupyter/1d09c1a9cc0136e78c0d6a575317090935e9cfc5.mp4\" controls autoplay loop style=\"max-width: 100%;\"  >\n",
       "      Your browser does not support the <code>video</code> element.\n",
       "    </video>"
      ],
      "text/plain": [
       "<IPython.core.display.Video object>"
      ]
     },
     "metadata": {},
     "output_type": "display_data"
    }
   ],
   "source": [
    "%manim SquareToCircle -pql -v WARNING"
   ]
  },
  {
   "cell_type": "markdown",
   "metadata": {},
   "source": [
    "## Einfaches Video selber erstellen\n",
    "\n",
    "Die nächste Zelle beinhaltet Code der eine neue Szene erstellt und einen Kreis\n",
    "anzeigt und wieder entfernt.\n",
    "\n",
    "**Aufgabe:**\n",
    "> Sie sollen den Code so erweitern, dass auch noch ein Quadrat und ein Dreieck\n",
    "> angezeigt werden, und wieder verschwinden."
   ]
  },
  {
   "cell_type": "code",
   "execution_count": 29,
   "metadata": {},
   "outputs": [],
   "source": [
    "class Shapes(Scene):\n",
    "    def construct(self):\n",
    "        circle = Circle()\n",
    "        \n",
    "        self.add(circle)\n",
    "        self.wait(1)\n",
    "        self.remove(circle)\n",
    "        self.wait(1)"
   ]
  },
  {
   "cell_type": "markdown",
   "metadata": {},
   "source": [
    "## Video für Shapes erzeugen\n",
    "\n",
    "Der Code in der nächsten Zelle, erzeugt Ihnen das Video für die Shapes."
   ]
  },
  {
   "cell_type": "code",
   "execution_count": 28,
   "metadata": {},
   "outputs": [
    {
     "data": {
      "text/html": [
       "<video src=\"media/jupyter/10d6df9272935af529e0edd7e75d3a6ca7f94095.mp4\" controls autoplay loop style=\"max-width: 100%;\"  >\n",
       "      Your browser does not support the <code>video</code> element.\n",
       "    </video>"
      ],
      "text/plain": [
       "<IPython.core.display.Video object>"
      ]
     },
     "metadata": {},
     "output_type": "display_data"
    }
   ],
   "source": [
    "%manim Shapes -ql -v WARNING"
   ]
  },
  {
   "cell_type": "markdown",
   "metadata": {},
   "source": [
    "## Den Code besser verstehen\n",
    "\n",
    "Wie Sie bereits wissen braucht Manim eine `Scene` damit eine neue Szene\n",
    "erstellt werden kann. Diese `Scene` muss eine Methode `construct` haben, wo die\n",
    "ganze Animation ausgeführt wird.\n",
    "\n",
    "Sie sehen im Code dass einer `Scene` neue Objekte hinzugefügt werden können.\n",
    "Das passiert über das `self.add()`. Diese Objekte können dann auch wieder\n",
    "weggenommen werden, mit der Funktion `self.remove()`. Diese beiden Funktionen\n",
    "führen aber keine Animation aus. Dafür müssen andere Funktionen so wie oben\n",
    "`self.play()` verwendet werden. Uns geht es hier aber mehr um die Objekte die\n",
    "man zu einer `Scene` hinzufügen kann.\n",
    "\n",
    "In Manim werden diese Objekte `MObjects` für mathematische Objekte gennant. Die\n",
    "Objekte müssen aber nicht unbedingt etwas mit Mathematik zu tun haben. Hier\n",
    "verwenden wir geometrische Objekte die bereits von Manim vorgegeben sind.\n",
    "\n",
    "**Wichtig:**\n",
    "> Wenn wir etwas in einer `Scene` darstellen möchten, muss das ein `MObject`\n",
    "> sein.\n",
    "\n",
    "## Plazieren von Objekten\n",
    "\n",
    "Manim setzt den Ursprung des Koordinatensystems in der Mitte der Szene. Um\n",
    "Objekte dann korrekt zu plazieren, können die folgenden Funktionen verwendet\n",
    "werden: `move_to(), next_to() und align_to()`.\n",
    "\n",
    "**Aufgabe:**\n",
    "> In der nächsten Zelle finden Sie Code der 3 verschiedene Objekte plaziert.\n",
    "> Spielen Sie mit dem Code bis Sie ein gutes Verständnis für das platzieren von\n",
    "> Objekten entwickelt haben.\n"
   ]
  },
  {
   "cell_type": "code",
   "execution_count": null,
   "metadata": {},
   "outputs": [],
   "source": [
    "class ShapesPlacement(Scene):\n",
    "    def construct(self):\n",
    "        circle = Circle()\n",
    "        square = Square()\n",
    "        triangle = Triangle()\n",
    "\n",
    "        circle.move_to(LEFT * 2)\n",
    "        square.next_to(circle, LEFT)\n",
    "\n",
    "        triangle.align_to(square, UP)\n",
    "        \n",
    "        self.wait(1)\n",
    "        self.add(circle, square, triangle)\n",
    "        self.wait(1)"
   ]
  },
  {
   "cell_type": "code",
   "execution_count": null,
   "metadata": {},
   "outputs": [],
   "source": [
    "%manim ShapesPlacement -pql -v WARNING"
   ]
  }
 ],
 "metadata": {
  "kernelspec": {
   "display_name": "Python 3",
   "language": "python",
   "name": "python3"
  },
  "language_info": {
   "codemirror_mode": {
    "name": "ipython",
    "version": 3
   },
   "file_extension": ".py",
   "mimetype": "text/x-python",
   "name": "python",
   "nbconvert_exporter": "python",
   "pygments_lexer": "ipython3",
   "version": "3.8.6"
  }
 },
 "nbformat": 4,
 "nbformat_minor": 4
}

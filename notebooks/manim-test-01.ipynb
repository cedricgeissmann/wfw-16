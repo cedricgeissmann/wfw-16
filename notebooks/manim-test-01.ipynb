{
 "cells": [
  {
   "cell_type": "markdown",
   "metadata": {
    "slideshow": {
     "slide_type": "slide"
    }
   },
   "source": [
    "# Manim Tutorial mit Jupyter\n",
    "\n",
    "- Manim ist ein Python Framework zum erstellen von Videos\n",
    "  - ... vorallem für mathematische Videos gedacht\n",
    "  - 3blue1brown macht alle seine Youtube-Videos mit Manim\n",
    "  - Wir verwenden die Community Version von Manim\n",
    "  \n",
    "- Gleich selbst mitmachen\n",
    "  - [https://mybinder.org/v2/gh/cedricgeissmann/wfw-16/HEAD](https://mybinder.org/v2/gh/cedricgeissmann/wfw-16/HEAD)"
   ]
  },
  {
   "cell_type": "markdown",
   "metadata": {
    "slideshow": {
     "slide_type": "subslide"
    }
   },
   "source": [
    "## Jupyter und myBinder\n",
    "\n",
    "- Keine Installation nötig\n",
    "- Schneller Einstieg mit einfachen Beispielen\n",
    "- Läuft überall wo ein Webbrowser lauft"
   ]
  },
  {
   "cell_type": "markdown",
   "metadata": {
    "slideshow": {
     "slide_type": "skip"
    }
   },
   "source": [
    "In diesem Tutorial wollen wir uns anschauen wie man einfache animierte Videos\n",
    "mit der Manim Bibliothek erstellen kann.\n",
    "\n",
    "Manim ist eine Python Bibliothek die das erstellen solcher Videos ermöglicht.\n",
    "Hier soll es vor allem darum gehen wie man die Bibliothek verwendet, und\n",
    "weniger wie Python funktioniert. Es ist von Vorteil wenn eine solide\n",
    "Grundkenntnis in Python vorhanden ist. Ist dies jedoch nicht der Fall, kann der\n",
    "Code einfach auch strukturell abgeschrieben werden."
   ]
  },
  {
   "cell_type": "markdown",
   "metadata": {
    "slideshow": {
     "slide_type": "slide"
    }
   },
   "source": [
    "## Manim importieren\n",
    "\n",
    "- Um Manim zu verwenden, müssen wir es nur importieren"
   ]
  },
  {
   "cell_type": "markdown",
   "metadata": {
    "slideshow": {
     "slide_type": "skip"
    }
   },
   "source": [
    "Bevor wir Manim überhaupt verwenden können, müssen wir es importieren. Am\n",
    "besten wir machen dies einmal pro Notebook ganz zu beginn. Wichtig hier ist,\n",
    "wenn wir den Kernel neu laden müssen, müssen wir auch diese erste Zelle mit dem\n",
    "Import erneut laufen lassen. Das müssen Sie sich jetzt nicht unbedingt merken,\n",
    "Sie sehen dann was gemeint ist wenn es so weit ist."
   ]
  },
  {
   "cell_type": "code",
   "execution_count": 1,
   "metadata": {
    "slideshow": {
     "slide_type": "fragment"
    }
   },
   "outputs": [],
   "source": [
    "from manim import *"
   ]
  },
  {
   "cell_type": "markdown",
   "metadata": {
    "slideshow": {
     "slide_type": "slide"
    }
   },
   "source": [
    "## Manim Szenen\n",
    "\n",
    "- Ein Manim Video besteht aus `Scene`s\n",
    "- Eine `Scene` enthält Animationen\n",
    "- Animationen werden in der `construct`-Methode erstellt"
   ]
  },
  {
   "cell_type": "markdown",
   "metadata": {
    "slideshow": {
     "slide_type": "skip"
    }
   },
   "source": [
    "Um eine Szene in Manim zu programmieren, erstellen wir eine Klasse die von\n",
    "`Scene` abgeleitet ist. Der ganze Animationscode für die Szene, landet dann in\n",
    "der `construct` Funktion. Der Code kann für eine bessere Leserlichkeit, aber\n",
    "auch auf verschiedene Methoden verteilt werden. Wichtig ist das die Methode\n",
    "`construct` für eine Szene existiert, denn diese wird benutzt wenn die Szene\n",
    "erstellt werden soll."
   ]
  },
  {
   "cell_type": "code",
   "execution_count": 2,
   "metadata": {
    "slideshow": {
     "slide_type": "fragment"
    }
   },
   "outputs": [],
   "source": [
    "class SquareToCircle(Scene):\n",
    "    def construct(self):\n",
    "        circle = Circle()\n",
    "        circle.set_fill(PINK, opacity=0.5)\n",
    "\n",
    "        square = Square()\n",
    "        square.rotate(PI / 4)\n",
    "        square.set_fill(BLUE, opacity=0.7)\n",
    "        \n",
    "        self.play(ShowCreation(square))\n",
    "        self.play(Transform(square, circle))\n",
    "        self.play(FadeOut(square))"
   ]
  },
  {
   "cell_type": "markdown",
   "metadata": {
    "slideshow": {
     "slide_type": "slide"
    }
   },
   "source": [
    "## Videos Rendern\n",
    "\n",
    "- Eine fertige `Scene` kann ganz einfach gerendert werden."
   ]
  },
  {
   "cell_type": "markdown",
   "metadata": {
    "slideshow": {
     "slide_type": "skip"
    }
   },
   "source": [
    "In dieser Zelle sehen Sie den Befehl eine Szene zu erstellen. Wichtig hier ist\n",
    "das `%` ganz am Anfang der Zelle. Dann folgt der Befehl `manim` und danach der\n",
    "Name der Szene die Sie gerne erstellen möchten. Danach folgen noch einige\n",
    "Parameter, um diese kümmern wir uns hier nicht weiter, wir kopieren diese\n",
    "einfach.\n",
    "\n",
    "Wenn Sie diese Zelle ausführen wird Ihnen ein Video erstellt. Das Video\n",
    "erscheint gleich unterhalb der Zelle und kann direkt im Browser abgespielt\n",
    "werden. Es wir aber auch lokal eine Kopie gespeichert, diese finden Sie im\n",
    "Ordner `media`."
   ]
  },
  {
   "cell_type": "code",
   "execution_count": 3,
   "metadata": {
    "slideshow": {
     "slide_type": "fragment"
    }
   },
   "outputs": [
    {
     "name": "stderr",
     "output_type": "stream",
     "text": [
      "                                                                        \r"
     ]
    },
    {
     "data": {
      "text/html": [
       "<video src=\"media/jupyter/1d09c1a9cc0136e78c0d6a575317090935e9cfc5.mp4\" controls autoplay loop style=\"max-width: 100%;\"  >\n",
       "      Your browser does not support the <code>video</code> element.\n",
       "    </video>"
      ],
      "text/plain": [
       "<IPython.core.display.Video object>"
      ]
     },
     "metadata": {},
     "output_type": "display_data"
    }
   ],
   "source": [
    "%manim SquareToCircle -pql -v WARNING"
   ]
  },
  {
   "cell_type": "markdown",
   "metadata": {
    "slideshow": {
     "slide_type": "slide"
    }
   },
   "source": [
    "# Alles zusammen"
   ]
  },
  {
   "cell_type": "code",
   "execution_count": 4,
   "metadata": {
    "slideshow": {
     "slide_type": "fragment"
    }
   },
   "outputs": [
    {
     "name": "stderr",
     "output_type": "stream",
     "text": [
      "                                                                        \r"
     ]
    },
    {
     "data": {
      "text/html": [
       "<video src=\"media/jupyter/1d09c1a9cc0136e78c0d6a575317090935e9cfc5.mp4\" controls autoplay loop style=\"max-width: 100%;\"  >\n",
       "      Your browser does not support the <code>video</code> element.\n",
       "    </video>"
      ],
      "text/plain": [
       "<IPython.core.display.Video object>"
      ]
     },
     "metadata": {},
     "output_type": "display_data"
    }
   ],
   "source": [
    "%%manim SquareToCircle -pql -v WARNING\n",
    "\n",
    "class SquareToCircle(Scene):\n",
    "    def construct(self):\n",
    "        circle = Circle()\n",
    "        circle.set_fill(PINK, opacity=0.5)\n",
    "\n",
    "        square = Square()\n",
    "        square.rotate(PI / 4)\n",
    "        square.set_fill(BLUE, opacity=0.7)\n",
    "        \n",
    "        self.play(ShowCreation(square))\n",
    "        self.play(Transform(square, circle))\n",
    "        self.play(FadeOut(square))"
   ]
  },
  {
   "cell_type": "markdown",
   "metadata": {
    "slideshow": {
     "slide_type": "skip"
    }
   },
   "source": [
    "## Einfaches Video selber erstellen\n",
    "\n",
    "Die nächste Zelle beinhaltet Code der eine neue Szene erstellt und einen Kreis\n",
    "anzeigt und wieder entfernt.\n",
    "\n",
    "**Aufgabe:**\n",
    "> Sie sollen den Code so erweitern, dass auch noch ein Quadrat und ein Dreieck\n",
    "> angezeigt werden, und wieder verschwinden."
   ]
  },
  {
   "cell_type": "code",
   "execution_count": 4,
   "metadata": {
    "slideshow": {
     "slide_type": "skip"
    }
   },
   "outputs": [],
   "source": [
    "class Shapes(Scene):\n",
    "    def construct(self):\n",
    "        circle = Circle()\n",
    "        \n",
    "        self.add(circle)\n",
    "        self.wait(1)\n",
    "        self.remove(circle)\n",
    "        self.wait(1)"
   ]
  },
  {
   "cell_type": "markdown",
   "metadata": {
    "slideshow": {
     "slide_type": "skip"
    }
   },
   "source": [
    "## Video für Shapes erzeugen\n",
    "\n",
    "Der Code in der nächsten Zelle, erzeugt Ihnen das Video für die Shapes."
   ]
  },
  {
   "cell_type": "code",
   "execution_count": 5,
   "metadata": {
    "slideshow": {
     "slide_type": "skip"
    }
   },
   "outputs": [
    {
     "data": {
      "text/html": [
       "<video src=\"media/jupyter/4c9fdb1d81cbf6ed676e36777b559ff1cbac3c0b.mp4\" controls autoplay loop style=\"max-width: 100%;\"  >\n",
       "      Your browser does not support the <code>video</code> element.\n",
       "    </video>"
      ],
      "text/plain": [
       "<IPython.core.display.Video object>"
      ]
     },
     "metadata": {},
     "output_type": "display_data"
    }
   ],
   "source": [
    "%manim Shapes -ql -v WARNING"
   ]
  },
  {
   "cell_type": "markdown",
   "metadata": {
    "slideshow": {
     "slide_type": "skip"
    }
   },
   "source": [
    "## Den Code besser verstehen\n",
    "\n",
    "Wie Sie bereits wissen braucht Manim eine `Scene` damit eine neue Szene\n",
    "erstellt werden kann. Diese `Scene` muss eine Methode `construct` haben, wo die\n",
    "ganze Animation ausgeführt wird.\n",
    "\n",
    "Sie sehen im Code dass einer `Scene` neue Objekte hinzugefügt werden können.\n",
    "Das passiert über das `self.add()`. Diese Objekte können dann auch wieder\n",
    "weggenommen werden, mit der Funktion `self.remove()`. Diese beiden Funktionen\n",
    "führen aber keine Animation aus. Dafür müssen andere Funktionen so wie oben\n",
    "`self.play()` verwendet werden. Uns geht es hier aber mehr um die Objekte die\n",
    "man zu einer `Scene` hinzufügen kann.\n",
    "\n",
    "In Manim werden diese Objekte `MObjects` für mathematische Objekte gennant. Die\n",
    "Objekte müssen aber nicht unbedingt etwas mit Mathematik zu tun haben. Hier\n",
    "verwenden wir geometrische Objekte die bereits von Manim vorgegeben sind.\n",
    "\n",
    "**Wichtig:**\n",
    "> Wenn wir etwas in einer `Scene` darstellen möchten, muss das ein `MObject`\n",
    "> sein.\n",
    "\n",
    "## Plazieren von Objekten\n",
    "\n",
    "Manim setzt den Ursprung des Koordinatensystems in der Mitte der Szene. Um\n",
    "Objekte dann korrekt zu plazieren, können die folgenden Funktionen verwendet\n",
    "werden: `move_to(), next_to() und align_to()`.\n",
    "\n",
    "**Aufgabe:**\n",
    "> In der nächsten Zelle finden Sie Code der 3 verschiedene Objekte plaziert.\n",
    "> Spielen Sie mit dem Code bis Sie ein gutes Verständnis für das platzieren von\n",
    "> Objekten entwickelt haben.\n"
   ]
  },
  {
   "cell_type": "code",
   "execution_count": 6,
   "metadata": {
    "slideshow": {
     "slide_type": "skip"
    }
   },
   "outputs": [],
   "source": [
    "class ShapesPlacement(Scene):\n",
    "    def construct(self):\n",
    "        circle = Circle()\n",
    "        square = Square()\n",
    "        triangle = Triangle()\n",
    "\n",
    "        circle.move_to(LEFT * 2)\n",
    "        square.next_to(circle, LEFT)\n",
    "\n",
    "        triangle.align_to(square, UP)\n",
    "        \n",
    "        self.wait(1)\n",
    "        self.add(circle, square, triangle)\n",
    "        self.wait(1)"
   ]
  },
  {
   "cell_type": "code",
   "execution_count": 7,
   "metadata": {
    "slideshow": {
     "slide_type": "skip"
    }
   },
   "outputs": [
    {
     "data": {
      "text/html": [
       "<video src=\"media/jupyter/6711429a47f3c6363abdf3666fbf9a626d7b0715.mp4\" controls autoplay loop style=\"max-width: 100%;\"  >\n",
       "      Your browser does not support the <code>video</code> element.\n",
       "    </video>"
      ],
      "text/plain": [
       "<IPython.core.display.Video object>"
      ]
     },
     "metadata": {},
     "output_type": "display_data"
    }
   ],
   "source": [
    "%manim ShapesPlacement -pql -v WARNING"
   ]
  },
  {
   "cell_type": "markdown",
   "metadata": {
    "slideshow": {
     "slide_type": "slide"
    }
   },
   "source": [
    "## Graphen"
   ]
  },
  {
   "cell_type": "code",
   "execution_count": 12,
   "metadata": {
    "slideshow": {
     "slide_type": "subslide"
    }
   },
   "outputs": [],
   "source": [
    "import numpy as np\n",
    "from manim import (GraphScene, Dot, RED, always_redraw, Line, Text)\n",
    "from random import randint\n",
    "\n",
    "class DistributionSum(GraphScene):\n",
    "    def __init__(self, **kwargs):\n",
    "        GraphScene.__init__(\n",
    "            self, x_min=0, x_max=10, y_min=0, y_max=12,\n",
    "            x_labeled_nums=[2, 3, 5, 6, 7, 9, 10],\n",
    "            y_axis_config={'tick_frequency': 2},\n",
    "            graph_origin=np.array([-4, -3, 0]),\n",
    "            **kwargs\n",
    "        )\n",
    "\n",
    "    def random_line_func(self):\n",
    "        return Line(self.coords_to_point(0, randint(0, 10)),\n",
    "                    self.coords_to_point(10, randint(0, 10)), color=RED)\n",
    "\n",
    "    def random_text_func(self):\n",
    "        return Text(f'Zufallszahl: {randint(0, 10):.0f}').move_to(np.array([0, 3.5, 0]))\n",
    "\n",
    "    def construct(self):\n",
    "        self.setup_axes()\n",
    "        self.random_text = always_redraw(self.random_text_func)\n",
    "        self.add(self.random_text)\n",
    "        random_line = always_redraw(self.random_line_func)\n",
    "        self.add(random_line)\n",
    "        self.wait(1)\n",
    "        for i in range(10):\n",
    "            self.wait(0.5)"
   ]
  },
  {
   "cell_type": "code",
   "execution_count": 13,
   "metadata": {
    "slideshow": {
     "slide_type": "subslide"
    }
   },
   "outputs": [
    {
     "data": {
      "text/html": [
       "<video src=\"media/jupyter/80f1660fdde3e6030110008fbec02a1043b2a62f.mp4\" controls autoplay loop style=\"max-width: 100%;\"  >\n",
       "      Your browser does not support the <code>video</code> element.\n",
       "    </video>"
      ],
      "text/plain": [
       "<IPython.core.display.Video object>"
      ]
     },
     "metadata": {},
     "output_type": "display_data"
    }
   ],
   "source": [
    "%manim DistributionSum -ql -v WARNING"
   ]
  }
 ],
 "metadata": {
  "celltoolbar": "Slideshow",
  "kernelspec": {
   "display_name": "Python 3",
   "language": "python",
   "name": "python3"
  },
  "language_info": {
   "codemirror_mode": {
    "name": "ipython",
    "version": 3
   },
   "file_extension": ".py",
   "mimetype": "text/x-python",
   "name": "python",
   "nbconvert_exporter": "python",
   "pygments_lexer": "ipython3",
   "version": "3.8.6"
  }
 },
 "nbformat": 4,
 "nbformat_minor": 4
}

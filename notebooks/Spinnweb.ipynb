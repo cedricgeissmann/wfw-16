{
 "cells": [
  {
   "cell_type": "markdown",
   "metadata": {},
   "source": [
    "# Spinnwebdiagramm\n",
    "\n",
    "Ein Spinnwebdiagramm kann zur Veranschaulichung vom Verhalten von Fixpunkten gebraucht werden. Da es ein iterativer Algorithmus ist, eignet er sich sehr für die Darstellung in einem Video.\n",
    "\n",
    "## Funktionen zeichen min Manim\n",
    "\n",
    "Mit Manim können Funktionen einfach über die `GraphScene` gezeichnet werden. Es gilt dabei 2 Dinge zu beachten:\n",
    "\n",
    "- Die `__init__`-Funktion wird verwendet um die Parameter für die Achsen zu setzen.\n",
    "- Wenn ein Punkt im Koordinatensystem gesetzt werden soll, muss dieser mit `self.coords_to_point()` berechnet werden."
   ]
  },
  {
   "cell_type": "code",
   "execution_count": 1,
   "metadata": {},
   "outputs": [],
   "source": [
    "from manim import *"
   ]
  },
  {
   "cell_type": "code",
   "execution_count": 2,
   "metadata": {},
   "outputs": [
    {
     "data": {
      "text/html": [
       "<video src=\"media/jupyter/8b6ec462506325bebadfdd15a26d8a80721a3783.mp4\" controls autoplay loop style=\"max-width: 100%;\"  >\n",
       "      Your browser does not support the <code>video</code> element.\n",
       "    </video>"
      ],
      "text/plain": [
       "<IPython.core.display.Video object>"
      ]
     },
     "metadata": {},
     "output_type": "display_data"
    }
   ],
   "source": [
    "%%manim Spinnweb -ql -v WARNING\n",
    "\n",
    "class Spinnweb(GraphScene):\n",
    "    def __init__(self, **kwargs):\n",
    "        GraphScene.__init__(\n",
    "            self,\n",
    "            x_min=-3,\n",
    "            x_max=3,\n",
    "            y_min=-3,\n",
    "            y_max=10,\n",
    "            graph_origin=ORIGIN,\n",
    "            **kwargs)\n",
    "\n",
    "    def f(self, x):\n",
    "        return x**2 - 1\n",
    "    \n",
    "    def w(self, x):\n",
    "        return x\n",
    "        \n",
    "    def construct(self):\n",
    "        self.setup_axes()\n",
    "        curve1 = self.get_graph(self.f)\n",
    "        curve2 = self.get_graph(self.w)\n",
    "        \n",
    "        self.add(curve1, curve2)\n",
    "        self.wait()\n",
    "        \n",
    "        x = 1.2\n",
    "        y = 0\n",
    "        \n",
    "        for i in range(5):\n",
    "            x, y = self.spinnweb_step(self.calculate_coords_vert, x, y)\n",
    "            x, y = self.spinnweb_step(self.calculate_coords_hor, x, y)\n",
    "            \n",
    "    def spinnweb_step(self, coordinate_function, x, y):\n",
    "        c_s, c_e, x, y = coordinate_function(x, y)\n",
    "        p = Dot(color=RED).move_to(c_s)\n",
    "        self.add(p)\n",
    "        line = Line(c_s, c_e, color=RED)\n",
    "        self.add(line)\n",
    "            \n",
    "        self.wait()\n",
    "        \n",
    "        return x, y\n",
    "        \n",
    "        \n",
    "    def calculate_coords_vert(self, x, y=None):\n",
    "        if y is None:\n",
    "            y = x\n",
    "        coords_start = self.coords_to_point(x, y)\n",
    "        y = self.f(x)\n",
    "        coords_end = self.coords_to_point(x, y)\n",
    "        return (coords_start, coords_end, x, y)\n",
    "        \n",
    "    def calculate_coords_hor(self, x, y):\n",
    "        coords_start = self.coords_to_point(x, y)\n",
    "        x = y\n",
    "        coords_end = self.coords_to_point(x, y)\n",
    "        return (coords_start, coords_end, y, y)\n",
    "        \n",
    "        "
   ]
  },
  {
   "cell_type": "code",
   "execution_count": null,
   "metadata": {},
   "outputs": [],
   "source": []
  }
 ],
 "metadata": {
  "kernelspec": {
   "display_name": "Python 3",
   "language": "python",
   "name": "python3"
  },
  "language_info": {
   "codemirror_mode": {
    "name": "ipython",
    "version": 3
   },
   "file_extension": ".py",
   "mimetype": "text/x-python",
   "name": "python",
   "nbconvert_exporter": "python",
   "pygments_lexer": "ipython3",
   "version": "3.8.6"
  }
 },
 "nbformat": 4,
 "nbformat_minor": 4
}
